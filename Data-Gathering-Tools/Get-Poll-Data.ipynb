{
 "cells": [
  {
   "cell_type": "markdown",
   "metadata": {},
   "source": [
    "# County Election Data"
   ]
  },
  {
   "cell_type": "code",
   "execution_count": 11,
   "metadata": {},
   "outputs": [
    {
     "name": "stdout",
     "output_type": "stream",
     "text": [
      "Visited alabama; button is \"See all 67 counties\"\n",
      "Visited alaska; no county button\n",
      "There is no table either\n",
      "\n",
      "Visited arizona; button is \"See all 15 counties\"\n",
      "Visited arkansas; button is \"See all 75 counties\"\n",
      "Visited california; button is \"See all 58 counties\"\n",
      "Visited colorado; button is \"See all 64 counties\"\n",
      "Visited connecticut; no county button\n",
      "<tbody class=\"jsx-3713440361\"><tr class=\"jsx-1352427234 county-row is-desktop\"><td class=\"jsx-1352427234 county-name is-desktop\">Tolland County</td><td class=\"jsx-3469064484 votes-cell dem dem-background\">44,006</td><td class=\"jsx-3648768983 percent-cell dem-background is-desktop\"><div class=\"jsx-3648768983 flex-wrapper\"><div class=\"jsx-3648768983 percent-bold\">54.7%</div></div></td><td class=\"jsx-3469064484 votes-cell gop\">34,819</td><td class=\"jsx-3648768983 percent-cell is-desktop\"><div class=\"jsx-3648768983 flex-wrapper\"><div class=\"jsx-3648768983 percent-bold\">43.3%</div></div></td></tr><tr class=\"jsx-1352427234 county-row is-desktop\"><td class=\"jsx-1352427234 county-name is-desktop\">New Haven County</td><td class=\"jsx-3469064484 votes-cell dem dem-background\">242,629</td><td class=\"jsx-3648768983 percent-cell dem-background is-desktop\"><div class=\"jsx-3648768983 flex-wrapper\"><div class=\"jsx-3648768983 percent-bold\">58.1%</div></div></td><td class=\"jsx-3469064484 votes-cell gop\">169,892</td><td class=\"jsx-3648768983 percent-cell is-desktop\"><div class=\"jsx-3648768983 flex-wrapper\"><div class=\"jsx-3648768983 percent-bold\">40.7%</div></div></td></tr><tr class=\"jsx-1352427234 county-row is-desktop\"><td class=\"jsx-1352427234 county-name is-desktop\">Windham County</td><td class=\"jsx-3469064484 votes-cell dem\">26,701</td><td class=\"jsx-3648768983 percent-cell is-desktop\"><div class=\"jsx-3648768983 flex-wrapper\"><div class=\"jsx-3648768983 percent-bold\">46.8%</div></div></td><td class=\"jsx-3469064484 votes-cell gop gop-background\">29,141</td><td class=\"jsx-3648768983 percent-cell gop-background is-desktop\"><div class=\"jsx-3648768983 flex-wrapper\"><div class=\"jsx-3648768983 percent-bold\">51.1%</div></div></td></tr><tr class=\"jsx-1352427234 county-row is-desktop\"><td class=\"jsx-1352427234 county-name is-desktop\">Hartford County</td><td class=\"jsx-3469064484 votes-cell dem dem-background\">283,368</td><td class=\"jsx-3648768983 percent-cell dem-background is-desktop\"><div class=\"jsx-3648768983 flex-wrapper\"><div class=\"jsx-3648768983 percent-bold\">63.1%</div></div></td><td class=\"jsx-3469064484 votes-cell gop\">159,024</td><td class=\"jsx-3648768983 percent-cell is-desktop\"><div class=\"jsx-3648768983 flex-wrapper\"><div class=\"jsx-3648768983 percent-bold\">35.4%</div></div></td></tr><tr class=\"jsx-1352427234 county-row is-desktop\"><td class=\"jsx-1352427234 county-name is-desktop\">Litchfield County</td><td class=\"jsx-3469064484 votes-cell dem\">50,164</td><td class=\"jsx-3648768983 percent-cell is-desktop\"><div class=\"jsx-3648768983 flex-wrapper\"><div class=\"jsx-3648768983 percent-bold\">46.7%</div></div></td><td class=\"jsx-3469064484 votes-cell gop gop-background\">55,601</td><td class=\"jsx-3648768983 percent-cell gop-background is-desktop\"><div class=\"jsx-3648768983 flex-wrapper\"><div class=\"jsx-3648768983 percent-bold\">51.7%</div></div></td></tr><tr class=\"jsx-1352427234 county-row is-desktop\"><td class=\"jsx-1352427234 county-name is-desktop\">Fairfield County</td><td class=\"jsx-3469064484 votes-cell dem dem-background\">297,505</td><td class=\"jsx-3648768983 percent-cell dem-background is-desktop\"><div class=\"jsx-3648768983 flex-wrapper\"><div class=\"jsx-3648768983 percent-bold\">62.9%</div></div></td><td class=\"jsx-3469064484 votes-cell gop\">169,039</td><td class=\"jsx-3648768983 percent-cell is-desktop\"><div class=\"jsx-3648768983 flex-wrapper\"><div class=\"jsx-3648768983 percent-bold\">35.8%</div></div></td></tr><tr class=\"jsx-1352427234 county-row is-desktop\"><td class=\"jsx-1352427234 county-name is-desktop\">New London County</td><td class=\"jsx-3469064484 votes-cell dem dem-background\">79,459</td><td class=\"jsx-3648768983 percent-cell dem-background is-desktop\"><div class=\"jsx-3648768983 flex-wrapper\"><div class=\"jsx-3648768983 percent-bold\">56.9%</div></div></td><td class=\"jsx-3469064484 votes-cell gop\">57,110</td><td class=\"jsx-3648768983 percent-cell is-desktop\"><div class=\"jsx-3648768983 flex-wrapper\"><div class=\"jsx-3648768983 percent-bold\">40.9%</div></div></td></tr><tr class=\"jsx-1352427234 county-row is-desktop\"><td class=\"jsx-1352427234 county-name is-desktop\">Middlesex County</td><td class=\"jsx-3469064484 votes-cell dem dem-background\">56,848</td><td class=\"jsx-3648768983 percent-cell dem-background is-desktop\"><div class=\"jsx-3648768983 flex-wrapper\"><div class=\"jsx-3648768983 percent-bold\">57.3%</div></div></td><td class=\"jsx-3469064484 votes-cell gop\">40,665</td><td class=\"jsx-3648768983 percent-cell is-desktop\"><div class=\"jsx-3648768983 flex-wrapper\"><div class=\"jsx-3648768983 percent-bold\">41.0%</div></div></td></tr></tbody>\n",
      "Visited delaware; no county button\n",
      "<tbody class=\"jsx-3713440361\"><tr class=\"jsx-1352427234 county-row is-desktop\"><td class=\"jsx-1352427234 county-name is-desktop\">Kent County</td><td class=\"jsx-3469064484 votes-cell dem dem-background\">44,552</td><td class=\"jsx-3648768983 percent-cell dem-background is-desktop\"><div class=\"jsx-3648768983 flex-wrapper\"><div class=\"jsx-3648768983 percent-bold\">51.2%</div></div></td><td class=\"jsx-3469064484 votes-cell gop\">41,009</td><td class=\"jsx-3648768983 percent-cell is-desktop\"><div class=\"jsx-3648768983 flex-wrapper\"><div class=\"jsx-3648768983 percent-bold\">47.1%</div></div></td></tr><tr class=\"jsx-1352427234 county-row is-desktop\"><td class=\"jsx-1352427234 county-name is-desktop\">New Castle County</td><td class=\"jsx-3469064484 votes-cell dem dem-background\">195,034</td><td class=\"jsx-3648768983 percent-cell dem-background is-desktop\"><div class=\"jsx-3648768983 flex-wrapper\"><div class=\"jsx-3648768983 percent-bold\">67.8%</div></div></td><td class=\"jsx-3469064484 votes-cell gop\">88,364</td><td class=\"jsx-3648768983 percent-cell is-desktop\"><div class=\"jsx-3648768983 flex-wrapper\"><div class=\"jsx-3648768983 percent-bold\">30.7%</div></div></td></tr><tr class=\"jsx-1352427234 county-row is-desktop\"><td class=\"jsx-1352427234 county-name is-desktop\">Sussex County</td><td class=\"jsx-3469064484 votes-cell dem\">56,682</td><td class=\"jsx-3648768983 percent-cell is-desktop\"><div class=\"jsx-3648768983 flex-wrapper\"><div class=\"jsx-3648768983 percent-bold\">43.8%</div></div></td><td class=\"jsx-3469064484 votes-cell gop gop-background\">71,230</td><td class=\"jsx-3648768983 percent-cell gop-background is-desktop\"><div class=\"jsx-3648768983 flex-wrapper\"><div class=\"jsx-3648768983 percent-bold\">55.1%</div></div></td></tr></tbody>\n",
      "Visited florida; button is \"See all 67 counties\"\n",
      "Visited georgia; button is \"See all 159 counties\"\n",
      "Visited hawaii; no county button\n",
      "<tbody class=\"jsx-3713440361\"><tr class=\"jsx-1352427234 county-row is-desktop\"><td class=\"jsx-1352427234 county-name is-desktop\">Hawaii County</td><td class=\"jsx-3469064484 votes-cell dem dem-background\">58,731</td><td class=\"jsx-3648768983 percent-cell dem-background is-desktop\"><div class=\"jsx-3648768983 flex-wrapper\"><div class=\"jsx-3648768983 percent-bold\">66.9%</div></div></td><td class=\"jsx-3469064484 votes-cell gop\">26,897</td><td class=\"jsx-3648768983 percent-cell is-desktop\"><div class=\"jsx-3648768983 flex-wrapper\"><div class=\"jsx-3648768983 percent-bold\">30.6%</div></div></td></tr><tr class=\"jsx-1352427234 county-row is-desktop\"><td class=\"jsx-1352427234 county-name is-desktop\">Honolulu County</td><td class=\"jsx-3469064484 votes-cell dem dem-background\">238,869</td><td class=\"jsx-3648768983 percent-cell dem-background is-desktop\"><div class=\"jsx-3648768983 flex-wrapper\"><div class=\"jsx-3648768983 percent-bold\">62.5%</div></div></td><td class=\"jsx-3469064484 votes-cell gop\">136,259</td><td class=\"jsx-3648768983 percent-cell is-desktop\"><div class=\"jsx-3648768983 flex-wrapper\"><div class=\"jsx-3648768983 percent-bold\">35.7%</div></div></td></tr><tr class=\"jsx-1352427234 county-row is-desktop\"><td class=\"jsx-1352427234 county-name is-desktop\">Kauai County</td><td class=\"jsx-3469064484 votes-cell dem dem-background\">21,225</td><td class=\"jsx-3648768983 percent-cell dem-background is-desktop\"><div class=\"jsx-3648768983 flex-wrapper\"><div class=\"jsx-3648768983 percent-bold\">63.4%</div></div></td><td class=\"jsx-3469064484 votes-cell gop\">11,582</td><td class=\"jsx-3648768983 percent-cell is-desktop\"><div class=\"jsx-3648768983 flex-wrapper\"><div class=\"jsx-3648768983 percent-bold\">34.6%</div></div></td></tr><tr class=\"jsx-1352427234 county-row is-desktop\"><td class=\"jsx-1352427234 county-name is-desktop\">Maui County</td><td class=\"jsx-3469064484 votes-cell dem dem-background\">47,305</td><td class=\"jsx-3648768983 percent-cell dem-background is-desktop\"><div class=\"jsx-3648768983 flex-wrapper\"><div class=\"jsx-3648768983 percent-bold\">66.6%</div></div></td><td class=\"jsx-3469064484 votes-cell gop\">22,126</td><td class=\"jsx-3648768983 percent-cell is-desktop\"><div class=\"jsx-3648768983 flex-wrapper\"><div class=\"jsx-3648768983 percent-bold\">31.1%</div></div></td></tr></tbody>\n"
     ]
    },
    {
     "name": "stdout",
     "output_type": "stream",
     "text": [
      "Visited idaho; button is \"See all 44 counties\"\n",
      "Visited illinois; button is \"See all 102 counties\"\n",
      "Visited indiana; button is \"See all 92 counties\"\n",
      "Visited iowa; button is \"See all 99 counties\"\n",
      "Visited kansas; button is \"See all 105 counties\"\n",
      "Visited kentucky; button is \"See all 120 counties\"\n",
      "Visited louisiana; button is \"See all 64 counties\"\n",
      "Visited maine; button is \"See all 16 counties\"\n",
      "Visited maryland; button is \"See all 24 counties\"\n",
      "Visited massachusetts; button is \"See all 14 counties\"\n",
      "Visited michigan; button is \"See all 83 counties\"\n",
      "Visited minnesota; button is \"See all 87 counties\"\n",
      "Visited mississippi; button is \"See all 82 counties\"\n",
      "Visited missouri; button is \"See all 115 counties\"\n",
      "Visited montana; button is \"See all 56 counties\"\n",
      "Visited nebraska; button is \"See all 93 counties\"\n",
      "Visited nevada; button is \"See all 17 counties\"\n",
      "Visited new-hampshire; no county button\n",
      "<tbody class=\"jsx-3713440361\"><tr class=\"jsx-1352427234 county-row is-desktop\"><td class=\"jsx-1352427234 county-name is-desktop\">Sullivan County</td><td class=\"jsx-3469064484 votes-cell dem dem-background\">12,390</td><td class=\"jsx-3648768983 percent-cell dem-background is-desktop\"><div class=\"jsx-3648768983 flex-wrapper\"><div class=\"jsx-3648768983 percent-bold\">50.8%</div></div></td><td class=\"jsx-3469064484 votes-cell gop\">11,508</td><td class=\"jsx-3648768983 percent-cell is-desktop\"><div class=\"jsx-3648768983 flex-wrapper\"><div class=\"jsx-3648768983 percent-bold\">47.2%</div></div></td></tr><tr class=\"jsx-1352427234 county-row is-desktop\"><td class=\"jsx-1352427234 county-name is-desktop\">Carroll County</td><td class=\"jsx-3469064484 votes-cell dem dem-background\">16,649</td><td class=\"jsx-3648768983 percent-cell dem-background is-desktop\"><div class=\"jsx-3648768983 flex-wrapper\"><div class=\"jsx-3648768983 percent-bold\">50.1%</div></div></td><td class=\"jsx-3469064484 votes-cell gop\">16,150</td><td class=\"jsx-3648768983 percent-cell is-desktop\"><div class=\"jsx-3648768983 flex-wrapper\"><div class=\"jsx-3648768983 percent-bold\">48.6%</div></div></td></tr><tr class=\"jsx-1352427234 county-row is-desktop\"><td class=\"jsx-1352427234 county-name is-desktop\">Grafton County</td><td class=\"jsx-3469064484 votes-cell dem dem-background\">33,180</td><td class=\"jsx-3648768983 percent-cell dem-background is-desktop\"><div class=\"jsx-3648768983 flex-wrapper\"><div class=\"jsx-3648768983 percent-bold\">61.5%</div></div></td><td class=\"jsx-3469064484 votes-cell gop\">19,905</td><td class=\"jsx-3648768983 percent-cell is-desktop\"><div class=\"jsx-3648768983 flex-wrapper\"><div class=\"jsx-3648768983 percent-bold\">36.9%</div></div></td></tr><tr class=\"jsx-1352427234 county-row is-desktop\"><td class=\"jsx-1352427234 county-name is-desktop\">Merrimack County</td><td class=\"jsx-3469064484 votes-cell dem dem-background\">48,533</td><td class=\"jsx-3648768983 percent-cell dem-background is-desktop\"><div class=\"jsx-3648768983 flex-wrapper\"><div class=\"jsx-3648768983 percent-bold\">54.0%</div></div></td><td class=\"jsx-3469064484 votes-cell gop\">39,711</td><td class=\"jsx-3648768983 percent-cell is-desktop\"><div class=\"jsx-3648768983 flex-wrapper\"><div class=\"jsx-3648768983 percent-bold\">44.2%</div></div></td></tr><tr class=\"jsx-1352427234 county-row is-desktop\"><td class=\"jsx-1352427234 county-name is-desktop\">Cheshire County</td><td class=\"jsx-3469064484 votes-cell dem dem-background\">25,522</td><td class=\"jsx-3648768983 percent-cell dem-background is-desktop\"><div class=\"jsx-3648768983 flex-wrapper\"><div class=\"jsx-3648768983 percent-bold\">57.7%</div></div></td><td class=\"jsx-3469064484 votes-cell gop\">17,898</td><td class=\"jsx-3648768983 percent-cell is-desktop\"><div class=\"jsx-3648768983 flex-wrapper\"><div class=\"jsx-3648768983 percent-bold\">40.5%</div></div></td></tr><tr class=\"jsx-1352427234 county-row is-desktop\"><td class=\"jsx-1352427234 county-name is-desktop\">Belknap County</td><td class=\"jsx-3469064484 votes-cell dem\">16,894</td><td class=\"jsx-3648768983 percent-cell is-desktop\"><div class=\"jsx-3648768983 flex-wrapper\"><div class=\"jsx-3648768983 percent-bold\">44.0%</div></div></td><td class=\"jsx-3469064484 votes-cell gop gop-background\">20,899</td><td class=\"jsx-3648768983 percent-cell gop-background is-desktop\"><div class=\"jsx-3648768983 flex-wrapper\"><div class=\"jsx-3648768983 percent-bold\">54.4%</div></div></td></tr><tr class=\"jsx-1352427234 county-row is-desktop\"><td class=\"jsx-1352427234 county-name is-desktop\">Hillsborough County</td><td class=\"jsx-3469064484 votes-cell dem dem-background\">122,344</td><td class=\"jsx-3648768983 percent-cell dem-background is-desktop\"><div class=\"jsx-3648768983 flex-wrapper\"><div class=\"jsx-3648768983 percent-bold\">53.0%</div></div></td><td class=\"jsx-3469064484 votes-cell gop\">104,625</td><td class=\"jsx-3648768983 percent-cell is-desktop\"><div class=\"jsx-3648768983 flex-wrapper\"><div class=\"jsx-3648768983 percent-bold\">45.3%</div></div></td></tr><tr class=\"jsx-1352427234 county-row is-desktop\"><td class=\"jsx-1352427234 county-name is-desktop\">Rockingham County</td><td class=\"jsx-3469064484 votes-cell dem dem-background\">100,064</td><td class=\"jsx-3648768983 percent-cell dem-background is-desktop\"><div class=\"jsx-3648768983 flex-wrapper\"><div class=\"jsx-3648768983 percent-bold\">50.3%</div></div></td><td class=\"jsx-3469064484 votes-cell gop\">95,858</td><td class=\"jsx-3648768983 percent-cell is-desktop\"><div class=\"jsx-3648768983 flex-wrapper\"><div class=\"jsx-3648768983 percent-bold\">48.2%</div></div></td></tr><tr class=\"jsx-1352427234 county-row is-desktop\"><td class=\"jsx-1352427234 county-name is-desktop\">Strafford County</td><td class=\"jsx-3469064484 votes-cell dem dem-background\">41,721</td><td class=\"jsx-3648768983 percent-cell dem-background is-desktop\"><div class=\"jsx-3648768983 flex-wrapper\"><div class=\"jsx-3648768983 percent-bold\">56.7%</div></div></td><td class=\"jsx-3469064484 votes-cell gop\">30,489</td><td class=\"jsx-3648768983 percent-cell is-desktop\"><div class=\"jsx-3648768983 flex-wrapper\"><div class=\"jsx-3648768983 percent-bold\">41.4%</div></div></td></tr><tr class=\"jsx-1352427234 county-row is-desktop\"><td class=\"jsx-1352427234 county-name is-desktop\">Coos County</td><td class=\"jsx-3469064484 votes-cell dem\">7,640</td><td class=\"jsx-3648768983 percent-cell is-desktop\"><div class=\"jsx-3648768983 flex-wrapper\"><div class=\"jsx-3648768983 percent-bold\">46.3%</div></div></td><td class=\"jsx-3469064484 votes-cell gop gop-background\">8,617</td><td class=\"jsx-3648768983 percent-cell gop-background is-desktop\"><div class=\"jsx-3648768983 flex-wrapper\"><div class=\"jsx-3648768983 percent-bold\">52.2%</div></div></td></tr></tbody>\n",
      "Visited new-jersey; button is \"See all 21 counties\"\n",
      "Visited new-mexico; button is \"See all 33 counties\"\n",
      "Visited new-york; button is \"See all 62 counties\"\n",
      "Visited north-carolina; button is \"See all 100 counties\"\n",
      "Visited north-dakota; button is \"See all 53 counties\"\n",
      "Visited ohio; button is \"See all 88 counties\"\n",
      "Visited oklahoma; button is \"See all 77 counties\"\n",
      "Visited oregon; button is \"See all 36 counties\"\n",
      "Visited pennsylvania; button is \"See all 67 counties\"\n",
      "Visited rhode-island; no county button\n",
      "<tbody class=\"jsx-3713440361\"><tr class=\"jsx-1352427234 county-row is-desktop\"><td class=\"jsx-1352427234 county-name is-desktop\">Bristol County</td><td class=\"jsx-3469064484 votes-cell dem dem-background\">18,050</td><td class=\"jsx-3648768983 percent-cell dem-background is-desktop\"><div class=\"jsx-3648768983 flex-wrapper\"><div class=\"jsx-3648768983 percent-bold\">63.9%</div></div></td><td class=\"jsx-3469064484 votes-cell gop\">9,745</td><td class=\"jsx-3648768983 percent-cell is-desktop\"><div class=\"jsx-3648768983 flex-wrapper\"><div class=\"jsx-3648768983 percent-bold\">34.5%</div></div></td></tr><tr class=\"jsx-1352427234 county-row is-desktop\"><td class=\"jsx-1352427234 county-name is-desktop\">Providence County</td><td class=\"jsx-3469064484 votes-cell dem dem-background\">166,288</td><td class=\"jsx-3648768983 percent-cell dem-background is-desktop\"><div class=\"jsx-3648768983 flex-wrapper\"><div class=\"jsx-3648768983 percent-bold\">61.0%</div></div></td><td class=\"jsx-3469064484 votes-cell gop\">102,636</td><td class=\"jsx-3648768983 percent-cell is-desktop\"><div class=\"jsx-3648768983 flex-wrapper\"><div class=\"jsx-3648768983 percent-bold\">37.6%</div></div></td></tr><tr class=\"jsx-1352427234 county-row is-desktop\"><td class=\"jsx-1352427234 county-name is-desktop\">Washington County</td><td class=\"jsx-3469064484 votes-cell dem dem-background\">44,549</td><td class=\"jsx-3648768983 percent-cell dem-background is-desktop\"><div class=\"jsx-3648768983 flex-wrapper\"><div class=\"jsx-3648768983 percent-bold\">58.9%</div></div></td><td class=\"jsx-3469064484 votes-cell gop\">29,818</td><td class=\"jsx-3648768983 percent-cell is-desktop\"><div class=\"jsx-3648768983 flex-wrapper\"><div class=\"jsx-3648768983 percent-bold\">39.4%</div></div></td></tr><tr class=\"jsx-1352427234 county-row is-desktop\"><td class=\"jsx-1352427234 county-name is-desktop\">Kent County</td><td class=\"jsx-3469064484 votes-cell dem dem-background\">49,113</td><td class=\"jsx-3648768983 percent-cell dem-background is-desktop\"><div class=\"jsx-3648768983 flex-wrapper\"><div class=\"jsx-3648768983 percent-bold\">53.1%</div></div></td><td class=\"jsx-3469064484 votes-cell gop\">42,001</td><td class=\"jsx-3648768983 percent-cell is-desktop\"><div class=\"jsx-3648768983 flex-wrapper\"><div class=\"jsx-3648768983 percent-bold\">45.4%</div></div></td></tr><tr class=\"jsx-1352427234 county-row is-desktop\"><td class=\"jsx-1352427234 county-name is-desktop\">Newport County</td><td class=\"jsx-3469064484 votes-cell dem dem-background\">29,486</td><td class=\"jsx-3648768983 percent-cell dem-background is-desktop\"><div class=\"jsx-3648768983 flex-wrapper\"><div class=\"jsx-3648768983 percent-bold\">64.2%</div></div></td><td class=\"jsx-3469064484 votes-cell gop\">15,722</td><td class=\"jsx-3648768983 percent-cell is-desktop\"><div class=\"jsx-3648768983 flex-wrapper\"><div class=\"jsx-3648768983 percent-bold\">34.3%</div></div></td></tr></tbody>\n"
     ]
    },
    {
     "name": "stdout",
     "output_type": "stream",
     "text": [
      "Visited south-carolina; button is \"See all 46 counties\"\n",
      "Visited south-dakota; button is \"See all 66 counties\"\n",
      "Visited tennessee; button is \"See all 95 counties\"\n",
      "Visited texas; button is \"See all 254 counties\"\n",
      "Visited utah; button is \"See all 29 counties\"\n",
      "Visited vermont; button is \"See all 14 counties\"\n",
      "Visited virginia; button is \"See all 133 counties\"\n",
      "Visited washington; button is \"See all 39 counties\"\n",
      "Visited west-virginia; button is \"See all 55 counties\"\n",
      "Visited wisconsin; button is \"See all 72 counties\"\n",
      "Visited wyoming; button is \"See all 23 counties\"\n",
      "Visited washington-dc; no county button\n",
      "There is no table either\n",
      "\n"
     ]
    }
   ],
   "source": [
    "from bs4 import BeautifulSoup as bs\n",
    "import pandas as pd\n",
    "import requests\n",
    "from splinter import Browser\n",
    "\n",
    "# Thanks to Politico for the election results data!\n",
    "data_url = \"https://www.politico.com/2020-election/results/\"\n",
    "data_dfs = []\n",
    "\n",
    "states = [\"alabama\", \"alaska\", \"arizona\", \"arkansas\", \"california\",\n",
    "    \"colorado\", \"connecticut\", \"delaware\", \"florida\", \"georgia\", \"hawaii\",\n",
    "    \"idaho\", \"illinois\", \"indiana\", \"iowa\", \"kansas\", \"kentucky\",\n",
    "    \"louisiana\", \"maine\", \"maryland\", \"massachusetts\", \"michigan\",\n",
    "    \"minnesota\", \"mississippi\", \"missouri\", \"montana\", \"nebraska\", \"nevada\",\n",
    "    \"new-hampshire\", \"new-jersey\", \"new-mexico\", \"new-york\", \"north-carolina\",\n",
    "    \"north-dakota\", \"ohio\", \"oklahoma\", \"oregon\", \"pennsylvania\",\n",
    "    \"rhode-island\", \"south-carolina\", \"south-dakota\", \"tennessee\", \"texas\",\n",
    "    \"utah\", \"vermont\", \"virginia\", \"washington\", \"west-virginia\", \"wisconsin\",\n",
    "    \"wyoming\", \"washington-dc\"\n",
    "]\n",
    "\n",
    "for state in states:\n",
    "    # First get the site's page in the browser\n",
    "    state_page_url = data_url + state + \"/\"\n",
    "    \n",
    "    try:\n",
    "        browser.visit(state_page_url)\n",
    "    except:\n",
    "        # In case the browser gets closed after accessing a state's web page\n",
    "        # or the initial starting of the state search loop\n",
    "        executable_path = {'executable_path': 'chrome-driver/chromedriver.exe'}\n",
    "        browser = Browser('chrome', **executable_path, headless=False)\n",
    "        browser.visit(state_page_url)\n",
    "    \n",
    "    state_html = browser.html\n",
    "    state_soup = bs(state_html, 'html.parser')\n",
    "\n",
    "    # Now Get the full county list up on the page\n",
    "    state_county_reveal_button = state_soup.find('button', class_='jsx-3713440361')\n",
    "\n",
    "    if (state_county_reveal_button == None):\n",
    "        print(f'Visited {state}; no county button')\n",
    "        state_county_results_table = state_soup.find_all('tbody', class_='jsx-3713440361')\n",
    "\n",
    "        if (state_county_results_table == []):\n",
    "            print(f'There is no table either\\n')\n",
    "        else:\n",
    "            print(state_county_results_table[0])\n",
    "    else:\n",
    "        print(f'Visited {state}; button is \"{state_county_reveal_button.text}\"')"
   ]
  },
  {
   "cell_type": "code",
   "execution_count": null,
   "metadata": {},
   "outputs": [],
   "source": []
  }
 ],
 "metadata": {
  "kernelspec": {
   "display_name": "Python 3",
   "language": "python",
   "name": "python3"
  },
  "language_info": {
   "codemirror_mode": {
    "name": "ipython",
    "version": 3
   },
   "file_extension": ".py",
   "mimetype": "text/x-python",
   "name": "python",
   "nbconvert_exporter": "python",
   "pygments_lexer": "ipython3",
   "version": "3.6.10"
  }
 },
 "nbformat": 4,
 "nbformat_minor": 4
}
